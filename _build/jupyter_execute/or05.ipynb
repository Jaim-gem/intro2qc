{
 "cells": [
  {
   "cell_type": "markdown",
   "id": "43773b0a-feea-4600-9d7e-7c176efe8601",
   "metadata": {},
   "source": [
    "# Quantum Bits"
   ]
  },
  {
   "cell_type": "markdown",
   "id": "25aab125-0c7e-4ace-850e-994b685f72ca",
   "metadata": {},
   "source": [
    "&nbsp; \n",
    "\n",
    "Let’s look at the **classical bit** and compare it to the **quantum bit** . \n",
    "\n",
    "Imagine that the state of a classical bit is an **arrow** which points *upwards* when it is in the state `0` or *downwards* for the state `1`. \n",
    "\n",
    "![cbit](60.jpg)\n",
    "\n",
    "&nbsp; \n",
    "\n",
    "Evidently, a **classical bit** can only be in one of the discrete states, i.e. `0` or `1`. \n",
    " \n",
    "On the other hand, the **quantum bit** or **qubit** can *simultaneously* be in state `0` and state `1`, because of **quantum mechanics**!\n",
    "\n",
    "![qbit](63.jpg)\n",
    "\n",
    "\n",
    "In fact, if we think of a bit in state `0` as an arrow pointing to the **north pole of a sphere** and a bit in state `1` as an arrow pointing to the **south pole of a sphere**, a quantum bit can point **to any point on the sphere.** \n",
    "\n",
    "![qbit2](65.jpg)\n",
    "\n",
    "```{note}\n",
    "This way of depicting  the state of a quantum bit is called the **Bloch sphere** representation.  The **state of the qubit** is represented as an arrow pointing to a given point on the Bloch sphere.\n",
    "```\n",
    "\n",
    "This means that the **dimensionality** of the state of a qubit is higher than for the state of a classical bit, which means that it can *do more* in terms of computation.\n",
    "\n",
    "Because qubits are **quantum**, let’s learn a few of their **quantum properties** in the next pages. \n",
    "\n",
    "&nbsp; \n"
   ]
  }
 ],
 "metadata": {
  "kernelspec": {
   "display_name": "Python 3 (ipykernel)",
   "language": "python",
   "name": "python3"
  },
  "language_info": {
   "codemirror_mode": {
    "name": "ipython",
    "version": 3
   },
   "file_extension": ".py",
   "mimetype": "text/x-python",
   "name": "python",
   "nbconvert_exporter": "python",
   "pygments_lexer": "ipython3",
   "version": "3.13.1"
  }
 },
 "nbformat": 4,
 "nbformat_minor": 5
}