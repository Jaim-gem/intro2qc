{
 "cells": [
  {
   "cell_type": "markdown",
   "id": "43773b0a-feea-4600-9d7e-7c176efe8601",
   "metadata": {},
   "source": [
    "# Quantum Superposition"
   ]
  },
  {
   "cell_type": "markdown",
   "id": "25aab125-0c7e-4ace-850e-994b685f72ca",
   "metadata": {},
   "source": [
    "&nbsp; \n",
    "\n",
    "**Superposition** is exactly what was discussed before. It’s the ability of a quantum bit to be in both the `0` and `1` state at the same time. \n",
    "\n",
    "But here’s a strange detail… A qubit can only be in *superposition* **once we’re not watching it!** \n",
    "\n",
    "&nbsp; \n",
    "\n",
    "## Schrödinger's cat 🐈\n",
    "\n",
    "Imagine you have a cat in a box. It’s a quantum cat, *obviously*. \n",
    "\n",
    "Whilst it is in the box, it can be in a superposition of being in the `alive` state or the `dead` state. However, you decide to open the box, and find that the cat is `dead`. You make another quantum cat in a similar way, and open to find that this cat is `alive`. \n",
    "\n",
    "This is called **wave-function collapse**. The act of *observing* the quantum cat is actually a **measurement**. Measurements disturb **quantum systems** causing them to lose their quantumness. \n",
    "\n",
    "![collapse](73.jpg)\n",
    "\n",
    "&nbsp;\n",
    "\n",
    "**How might we describe the state of the cat when it was in the box based on observations?** 🧠 \n",
    "\n",
    "```{admonition} Answer\n",
    ":class: tip, dropdown\n",
    "\n",
    "We will need to **count** and **take statistics** on the number of times we see the cat alive versus the opposite outcome.\n",
    "\n",
    "The truth is that the higher dimensional state of the qubit **collapses** into a **classical state** once we observe it. In order to describe the state of the qubit before collapse, we must have multiple qubits prepared in the same way,  make multiple observations, and take statistics of those observations in order to recover the qubit state prior to collapse. \n",
    "\n",
    "$$\n",
    "\\text{Qubit state} = c_0\\times \\text{state } \\mathbf{0} + c_1 \\times \\text{state }\\mathbf{1}\n",
    "$$\n",
    "\n",
    "Here, the numbers $c_0$  and $c_1$ are *related* to the probabilities for observing that state. \n",
    "\n",
    "```\n",
    "\n",
    "&nbsp; \n",
    "\n",
    "\n",
    "**How might the state of a qudit or quantum dit be represented?** 🧠 \n",
    "\n",
    "```{admonition} Answer\n",
    ":class: tip, dropdown\n",
    "\n",
    "A **qubit** can only collapse onto 1 of **2 possible states**. A **qudit** can collapse onto 1 of **d possible states.**\n",
    "\n",
    "\n",
    "$$\n",
    "\\text{Qudit state} = c_0\\times \\text{state }\\mathbf{0} + c_1 \\times \\text{state }\\mathbf{1} + c_2 \\times \\text{state }\\mathbf{2} + ... + c_{d-1}\\times \\text{state }\\mathbf{d-1}\n",
    "$$\n",
    "\n",
    "```\n",
    "\n",
    "&nbsp; \n",
    "\n"
   ]
  }
 ],
 "metadata": {
  "kernelspec": {
   "display_name": "Python 3 (ipykernel)",
   "language": "python",
   "name": "python3"
  },
  "language_info": {
   "codemirror_mode": {
    "name": "ipython",
    "version": 3
   },
   "file_extension": ".py",
   "mimetype": "text/x-python",
   "name": "python",
   "nbconvert_exporter": "python",
   "pygments_lexer": "ipython3",
   "version": "3.13.1"
  }
 },
 "nbformat": 4,
 "nbformat_minor": 5
}