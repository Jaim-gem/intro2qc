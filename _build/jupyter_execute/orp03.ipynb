{
 "cells": [
  {
   "cell_type": "markdown",
   "id": "43773b0a-feea-4600-9d7e-7c176efe8601",
   "metadata": {},
   "source": [
    "# Extras"
   ]
  },
  {
   "cell_type": "markdown",
   "id": "25aab125-0c7e-4ace-850e-994b685f72ca",
   "metadata": {
    "jp-MarkdownHeadingCollapsed": true
   },
   "source": [
    "`````{admonition} Objectives \n",
    ":class: tip\n",
    "\n",
    "- to discover more single-qubit gates and their properties\n",
    "- to discover more entangled states. \n",
    "\n",
    "`````"
   ]
  },
  {
   "cell_type": "markdown",
   "id": "a0d9611f-4b7a-4a83-93ff-0b6a295576b4",
   "metadata": {},
   "source": [
    "```{warning}\n",
    "\n",
    "You may need to refer to the programming exercises on the previous page whilst doing the activities on the current one. If so, open the previous page **in a new tab**, as reloading the current page will cause you to lose your progress. \n",
    "\n",
    "```"
   ]
  },
  {
   "cell_type": "markdown",
   "id": "d42e569d-7d0d-49ad-84ae-d0d17bdfb92c",
   "metadata": {
    "jp-MarkdownHeadingCollapsed": true
   },
   "source": [
    "\n",
    "&nbsp; \n",
    "\n",
    "**Importing modules**\n",
    "\n",
    "```{admonition} Important\n",
    "You must run this cell each time you reload the page! \n",
    "```"
   ]
  },
  {
   "cell_type": "code",
   "execution_count": 1,
   "id": "c305d148-c3b3-4b13-8cb9-fe43abfebf21",
   "metadata": {},
   "outputs": [
    {
     "data": {
      "text/plain": [
       "'1.3.2'"
      ]
     },
     "execution_count": 1,
     "metadata": {},
     "output_type": "execute_result"
    }
   ],
   "source": [
    "import qiskit\n",
    "import warnings\n",
    "from qiskit import QuantumCircuit\n",
    "from qiskit_aer import AerSimulator\n",
    "from qiskit_aer.primitives import Sampler\n",
    "from qiskit.quantum_info import Statevector\n",
    "from qiskit.visualization import plot_bloch_multivector, plot_histogram, visualize_transition\n",
    "\n",
    "warnings.filterwarnings('ignore', category=DeprecationWarning)\n",
    "\n",
    "qiskit.__version__   # The version of Qiskit we are using"
   ]
  },
  {
   "cell_type": "markdown",
   "id": "7719e736-c3f2-44f7-b907-9e37fb38f001",
   "metadata": {},
   "source": [
    "## More single-qubit gates\n",
    "\n",
    "### The Y and Z-gates\n",
    "\n",
    "We've previously learnt about the **X-gate** which **flips** the state of a qubit from one to another. Let's complete the set with the **Y-gate** and **Z-gate**.\n",
    "\n",
    "&nbsp; \n",
    "\n",
    "\n",
    "::::{grid}\n",
    ":::{grid-item-card} \n",
    ":class-header: bg-light\n",
    "🧠 **CODING ACTIVITY 4 &mdash; Discover the action of the Y-gate**\n",
    "^^^\n",
    "\n",
    "1. Create a one-qubit circuit.\n",
    "2. Apply a **Y-gate**.  \n",
    "3. Draw the statevector.\n",
    "4. Create another one-qubit circuit.\n",
    "5. Apply an **X-gate**.\n",
    "6. Apply a **Y-gate**\n",
    "7. Draw the statevector. \n",
    "\n",
    "**What state is each circuit in before applying the Y-gate?** <br>\n",
    "**What is the final state of each circuit?**\n",
    ":::\n",
    "::::\n"
   ]
  },
  {
   "cell_type": "code",
   "execution_count": 2,
   "id": "1201014c-a46b-4ae4-87f4-f2b9789ca0d0",
   "metadata": {},
   "outputs": [],
   "source": [
    "# WRITE YOUR CODE HERE! \n",
    "# \n",
    "#\n",
    "#\n"
   ]
  },
  {
   "cell_type": "code",
   "execution_count": 3,
   "id": "1e1c6b0d-56b1-4a95-b77f-840d394a9eb4",
   "metadata": {},
   "outputs": [],
   "source": [
    "# MORE CODE SPACE\n",
    "# \n",
    "# \n",
    "#"
   ]
  },
  {
   "cell_type": "markdown",
   "id": "a326ce17-8474-4866-9ccc-5d36f90b0b1b",
   "metadata": {},
   "source": [
    "&nbsp; \n",
    "\n",
    "\n",
    "::::{grid}\n",
    ":::{grid-item-card} \n",
    ":class-header: bg-light\n",
    "🧠 **CODING ACTIVITY 5 &mdash; Discover the action of the Z-gate**\n",
    "^^^\n",
    "\n",
    "1. Create a one-qubit circuit.\n",
    "2. Apply a **Z-gate**.  \n",
    "3. Draw the statevector.\n",
    "4. Create another one-qubit circuit.\n",
    "5. Apply an **X-gate**.\n",
    "6. Apply a **Z-gate**\n",
    "7. Draw the statevector. \n",
    "\n",
    "**What state is each circuit in before applying the Z-gate?** <br>\n",
    "**What is the final state of each circuit?**\n",
    ":::\n",
    "::::"
   ]
  },
  {
   "cell_type": "code",
   "execution_count": 4,
   "id": "e9e57f6e-7810-4824-8b65-66add89420a9",
   "metadata": {},
   "outputs": [],
   "source": [
    "# WRITE YOUR CODE HERE! \n",
    "# \n",
    "#\n",
    "#\n"
   ]
  },
  {
   "cell_type": "code",
   "execution_count": 5,
   "id": "57fb0a96-ff55-42f5-b8db-e354daa377d6",
   "metadata": {},
   "outputs": [],
   "source": [
    "# MORE CODE SPACE\n",
    "# \n",
    "# \n",
    "#\n"
   ]
  },
  {
   "cell_type": "markdown",
   "id": "9ce4f80c-0d54-4861-81e6-8c6c4f1967fe",
   "metadata": {},
   "source": [
    "\n",
    "&nbsp; \n",
    "\n",
    "```{dropdown} Answers\n",
    "\n",
    "The action of the Y-gate does the following transformations: <br> \n",
    "\n",
    "$$\\ket{0}\\xrightarrow{Y-gate}i\\ket{1}$$\n",
    "$$\\ket{1}\\xrightarrow{Y-gate}-i\\ket{0}$$\n",
    "\n",
    "The Y-gate changes flips the state of the qubit but also includes a **complex phase**  of $+i$ or $-i$ accordingly.\n",
    "\n",
    "The action of the Z-gate does the following transformations: <br> \n",
    "\n",
    "$$\\ket{0}\\xrightarrow{Z-gate}\\ket{0}$$\n",
    "$$\\ket{1}\\xrightarrow{Z-gate}-\\ket{1}$$\n",
    "\n",
    "The Z-gate does nothing to a qubit in state $\\ket{0}$ but places **phase** of $-1$ onto the a qubit in state $\\ket{1}$. \n",
    "\n",
    "```{code-block}\n",
    "y_circuit = QuantumCircuit(1) \n",
    "y_circuit.y(0)\n",
    "y_circuit.draw(\"mpl\")\n",
    "y_state = Statevector(y_circuit)\n",
    "y_state.draw(\"latex\")\n",
    "\n",
    "--- \n",
    "\n",
    "y_circuit = QuantumCircuit(1)\n",
    "y_circuit.x(0)\n",
    "y_circuit.y(0)\n",
    "y_circuit.draw(\"mpl\")\n",
    "y_state = Statevector(y_circuit)\n",
    "y_state.draw(\"latex\")\n",
    "\n",
    "---\n",
    "\n",
    "z_circuit = QuantumCircuit(1) \n",
    "z_circuit.z(0)\n",
    "z_circuit.draw(\"mpl\")\n",
    "z_state = Statevector(z_circuit)\n",
    "z_state.draw(\"latex\")\n",
    "\n",
    "\n",
    "---\n",
    "\n",
    "z_circuit = QuantumCircuit(1) \n",
    "z_circuit.x(0)\n",
    "z_circuit.z(0)\n",
    "z_circuit.draw(\"mpl\")\n",
    "z_state = Statevector(z_circuit)\n",
    "z_state.draw(\"latex\")\n",
    "\n",
    "\n",
    "```\n",
    "\n"
   ]
  },
  {
   "cell_type": "markdown",
   "id": "8710692d-6cee-4d67-9a55-001fa726c20e",
   "metadata": {},
   "source": [
    "&nbsp; \n",
    "\n",
    "It is better to get a **visual representation** of the what is happening with each circuit. Let us now use the `visualize_transition()` function to get a better idea of what is happening. \n",
    "\n",
    "\n",
    "&nbsp; \n",
    "\n",
    "\n",
    "::::{grid}\n",
    ":::{grid-item-card} \n",
    ":class-header: bg-light\n",
    "🧠 **CODING ACTIVITY 6 &mdash; Visualize the Y-gate operation**\n",
    "^^^\n",
    "\n",
    "1. Create a one-qubit circuit.\n",
    "2. Apply a **Y-gate**.  \n",
    "3. Visualize the transition for the circuit. \n",
    "\n",
    "**In a new tab, revisit the section for the X-gate from the main programming exercise.** <br>\n",
    "**How is the transition for the Y-gate different to the X-gate transition?**\n",
    "\n",
    ":::\n",
    "::::\n"
   ]
  },
  {
   "cell_type": "code",
   "execution_count": 6,
   "id": "3951f3ee-d15b-4508-b7e2-d67ac3450183",
   "metadata": {
    "scrolled": true
   },
   "outputs": [],
   "source": [
    "# WRITE YOUR CODE HERE! \n",
    "# \n",
    "#\n",
    "#"
   ]
  },
  {
   "cell_type": "markdown",
   "id": "74e91468-dd7f-4343-8583-2ae4b9154b1f",
   "metadata": {},
   "source": [
    "\n",
    "&nbsp; \n",
    "\n",
    "::::{grid}\n",
    ":::{grid-item-card} \n",
    ":class-header: bg-light\n",
    "🧠 **CODING ACTIVITY 7 &mdash; Visualize the Z-gate operation**\n",
    "^^^\n",
    "\n",
    "1. Create a one-qubit circuit.\n",
    "2. Apply a **Z-gate**.  \n",
    "3. Visualize the transition for the circuit.\n",
    "4. Create another one-qubit circuit.\n",
    "5. Apply a **Hadamard gate**.\n",
    "6. Apply a **Z-gate**. \n",
    "7. Visualize the transition for the circuit.\n",
    "   \n",
    "**How is the transition for the Z-gate different to the X and Y-gate transitions?** <br>\n",
    "**What do you notice about the angle of rotations for X, Y and Z-gates?**\n",
    "\n",
    ":::\n",
    "::::\n"
   ]
  },
  {
   "cell_type": "code",
   "execution_count": 7,
   "id": "4a859937-3023-44ec-9c5b-8308fb659acb",
   "metadata": {},
   "outputs": [],
   "source": [
    "# WRITE YOUR CODE HERE! \n",
    "# \n",
    "#\n",
    "#\n"
   ]
  },
  {
   "cell_type": "code",
   "execution_count": 8,
   "id": "5c86a5ed-84b0-4f6a-8e0b-1043b2ea983a",
   "metadata": {},
   "outputs": [],
   "source": [
    "# MORE CODE SPACE\n",
    "# \n",
    "#\n",
    "#"
   ]
  },
  {
   "cell_type": "markdown",
   "id": "c6d4b025-7a58-460c-bfae-e364c5fe2016",
   "metadata": {},
   "source": [
    "\n",
    "&nbsp; \n",
    "\n",
    "```{dropdown} Answers\n",
    "\n",
    "The axis of rotation for the Y-gate is different to the X-gate. The Z-gate appears to do nothing in the first circuit, but in the second circuit there is rotation. The angles of rotations are all $180^{\\circ}$. To be more specific, **the X, Y and Z-gates are rotations of $180^{\\circ}$ about the x-axis, the y-axis and the z-axis respectively**. \n",
    "\n",
    "```{code-block}\n",
    "y_circuit = QuantumCircuit(1) \n",
    "y_circuit.y(0)\n",
    "visualize_transition(y_circuit, trace=True, fpg=30, spg=2)\n",
    "\n",
    "---\n",
    "\n",
    "z_circuit = QuantumCircuit(1) \n",
    "z_circuit.z(0)\n",
    "visualize_transition(z_circuit, trace=True, fpg=30, spg=2)\n",
    "\n",
    "---\n",
    "\n",
    "z_circuit = QuantumCircuit(1) \n",
    "z_circuit.h(0)\n",
    "z_circuit.z(0)\n",
    "visualize_transition(z_circuit, trace=True, fpg=30, spg=2)\n",
    "\n",
    "\n",
    "```\n"
   ]
  },
  {
   "cell_type": "markdown",
   "id": "bcf94466-d6f0-4593-a162-e279f7f041de",
   "metadata": {},
   "source": [
    "\n",
    "&nbsp; \n",
    "\n",
    "```{note}\n",
    "\n",
    "**To summarize**, we have discovered the actions of the X,Y and Z-gates in terms of rotation of the qubit state about these axes. We've also seen that some gates transform qubits by **changing the state** and/or **changing their phases**. Both are important for describing the overall state of the qubit.\n",
    "\n",
    "```\n",
    "\n",
    "&nbsp; \n",
    "\n",
    "\n",
    "## More on entangled states\n",
    "\n",
    "### Two-qubit entanglement \n",
    "In **CODING ACTIVITY 3** of the main programming exercises, we were able to create an entangled state where the qubit outcomes are always the same (\"00\" or \"11\") using one Hadamard gate and one CX-gate. \n",
    "\n",
    "&nbsp; \n",
    "\n",
    "::::{grid}\n",
    ":::{grid-item-card} \n",
    ":class-header: bg-light\n",
    "🧠 **CODING ACTIVITY 8 &mdash; Entangled opposites**\n",
    "^^^\n",
    "\n",
    "Create a two-qubit entangled state where the outcomes must always be opposite. Verify your state by either drawing the statevector or by executing the circuit and plotting the histogram. \n",
    "\n",
    "`````{admonition} Hint\n",
    ":class: tip\n",
    "\n",
    "Only 3 gates are needed to create this state.\n",
    "`````\n",
    "\n",
    ":::\n",
    "::::\n",
    "\n"
   ]
  },
  {
   "cell_type": "code",
   "execution_count": 9,
   "id": "bca1feff-cbdb-4118-a313-9222bd4d6099",
   "metadata": {
    "scrolled": true
   },
   "outputs": [],
   "source": [
    "# WRITE CODE HERE! \n",
    "#\n",
    "#\n",
    "#"
   ]
  },
  {
   "cell_type": "code",
   "execution_count": 10,
   "id": "ce6e1c5f-1fb0-4259-87d5-87aedaf0c353",
   "metadata": {},
   "outputs": [],
   "source": [
    "# MORE CODE SPACE\n",
    "#\n",
    "#\n",
    "#\n"
   ]
  },
  {
   "cell_type": "code",
   "execution_count": 11,
   "id": "50d3f32e-58b9-4256-82ef-f85f85c546ca",
   "metadata": {},
   "outputs": [],
   "source": [
    "# EXTRA IF NEEDED\n",
    "#\n",
    "#\n",
    "#\n"
   ]
  },
  {
   "cell_type": "markdown",
   "id": "2e03a223-f3e2-4b93-b84c-15d77ec9e7c8",
   "metadata": {},
   "source": [
    "&nbsp; \n",
    "\n",
    "```{dropdown} Answer\n",
    "\n",
    "In this state, the outcomes \"00\" and \"11\" are forbidden. <br>\n",
    "\n",
    "We only need to add one more gate from the circuit in **CODING ACTIVITY 3**. It's an **X-gate** which flips the state of one of the qubits. There are a few possibilities. Either, you place the X-gate on the second qubit **before or after** the CX-gate. Or, you can place the X-gate on the first qubit **after** the CX-gate.\n",
    "\n",
    "The final state is $ \\frac{\\ket{01} + \\ket{10}}{\\sqrt{2}}$.\n",
    "\n",
    "Here are the three circuit options.\n",
    "\n",
    "```{code-block}\n",
    "\n",
    "opp_entangled = QuantumCircuit(2)\n",
    "opp_entangled.h(0)\n",
    "opp_entangled.x(1)\n",
    "opp_entangled.cx(0,1)\n",
    "opp_entangled.draw(\"mpl\")\n",
    "\n",
    "---\n",
    "\n",
    "opp_entangled = QuantumCircuit(2)\n",
    "opp_entangled.h(0)\n",
    "opp_entangled.cx(0,1)\n",
    "opp_entangled.x(1)\n",
    "opp_entangled.draw(\"mpl\")\n",
    "---\n",
    "\n",
    "opp_entangled = QuantumCircuit(2)\n",
    "opp_entangled.h(0)\n",
    "opp_entangled.cx(0,1)\n",
    "opp_entangled.x(0)\n",
    "opp_entangled.draw(\"mpl\")\n",
    "\n",
    "```\n"
   ]
  },
  {
   "cell_type": "markdown",
   "id": "ebba5343-72eb-493a-8a1c-a7511c6258fb",
   "metadata": {},
   "source": [
    "&nbsp; \n",
    "\n",
    "### Three-qubit entanglement \n",
    "\n",
    "Until now, the discussion has only been about entangling two qubits. But, three or more qubits may be entangled.\n",
    "\n",
    "&nbsp; \n",
    "\n",
    "::::{grid}\n",
    ":::{grid-item-card} \n",
    ":class-header: bg-light\n",
    "🧠 **CODING ACTIVITY 9 &mdash; GHZ state**\n",
    "^^^\n",
    "\n",
    "Create a three-qubit entangled state where the outcomes of each are always the same. The final state of the circuit should be \n",
    "\n",
    "$$ \\frac{\\ket{000} + \\ket{111}}{\\sqrt{2}} $$\n",
    "\n",
    "This is called the **Greenberger–Horne–Zeilinger** or **GHZ** state. \n",
    "\n",
    ":::\n",
    "::::\n"
   ]
  },
  {
   "cell_type": "code",
   "execution_count": 12,
   "id": "6fefc121-c784-4608-b217-e0dbba5a931b",
   "metadata": {
    "scrolled": true
   },
   "outputs": [],
   "source": [
    "# WRITE CODE HERE! \n",
    "# \n",
    "#\n",
    "#\n"
   ]
  },
  {
   "cell_type": "code",
   "execution_count": 13,
   "id": "35bfd6c4-cd12-46da-947c-5eabeedc7a9c",
   "metadata": {},
   "outputs": [],
   "source": [
    "# MORE CODE SPACE\n",
    "# \n",
    "# \n",
    "#"
   ]
  },
  {
   "cell_type": "markdown",
   "id": "28eb5d31-7ec9-45af-85d7-8eb1ac0e5c99",
   "metadata": {},
   "source": [
    "&nbsp; \n",
    "\n",
    "```{dropdown} Answer\n",
    "\n",
    "We only need to add one more qubit and one more gate from the circuit in **CODING ACTIVITY 3**. The extra gate is another **CX-gate** which targets the third qubit but may be controlled by either the first or second qubit. This ensures that the state of the third qubit is flipped once of the first two qubits have flipped.\n",
    "\n",
    "Here are the options.\n",
    "\n",
    "```{code-block}\n",
    "\n",
    "ghz_state = QuantumCircuit(3)\n",
    "ghz_state.h(0)\n",
    "ghz_state.cx(0,1)\n",
    "ghz_state.cx(0,2)\n",
    "ghz_state.draw(\"mpl\")\n",
    "\n",
    "---\n",
    "\n",
    "ghz_state = QuantumCircuit(3)\n",
    "ghz_state.h(0)\n",
    "ghz_state.cx(0,1)\n",
    "ghz_state.cx(1,2)\n",
    "ghz_state.draw(\"mpl\")\n",
    "\n",
    "```\n",
    "\n",
    "&nbsp; \n",
    "\n"
   ]
  }
 ],
 "metadata": {
  "kernelspec": {
   "display_name": "Python 3 (ipykernel)",
   "language": "python",
   "name": "python3"
  },
  "language_info": {
   "codemirror_mode": {
    "name": "ipython",
    "version": 3
   },
   "file_extension": ".py",
   "mimetype": "text/x-python",
   "name": "python",
   "nbconvert_exporter": "python",
   "pygments_lexer": "ipython3",
   "version": "3.13.1"
  }
 },
 "nbformat": 4,
 "nbformat_minor": 5
}