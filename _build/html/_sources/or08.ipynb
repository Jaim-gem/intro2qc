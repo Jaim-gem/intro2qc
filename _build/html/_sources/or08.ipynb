{
 "cells": [
  {
   "cell_type": "markdown",
   "id": "43773b0a-feea-4600-9d7e-7c176efe8601",
   "metadata": {},
   "source": [
    "# Quantum Computation"
   ]
  },
  {
   "cell_type": "markdown",
   "id": "25aab125-0c7e-4ace-850e-994b685f72ca",
   "metadata": {},
   "source": [
    "&nbsp; \n",
    "\n",
    "- A **quantum computer** is able to *initiate*, *manipulate* and *measure* the states of qubits, according to the *instructions* defined in **quantum programs**.\n",
    "\n",
    "- The goal of quantum computing is to develop *useful* quantum algorithms that can solve problems more efficiently than classical computing. \n",
    "\n",
    "- Quantum computers must be able to *carefully* and *precisely* manipulate the states of quantum bits. Since quantum systems tend to be delicate, we must be able to block out external environmental signals and/or minimize heat.\n",
    "\n",
    "&nbsp; \n",
    "\n",
    "```{dropdown} Here's what a quantum computer looks like...\n",
    "![ibm](sysone.png)\n",
    "```\n",
    "&nbsp; \n",
    "\n",
    "## Physical Qubits 🌌\n",
    "\n",
    "&nbsp; \n",
    "\n",
    "- Quantum bits must exhibit quantum behaviours: **superposition**, **entanglement** and **interference**.\n",
    "- They must also have two distinct measurable states, assigned as `0` and `1`.\n",
    "- Physical qubits may be cold atoms, trapped ions, photons (particles of light) and artificial atoms.\n",
    "\n",
    "&nbsp; \n",
    "\n",
    "![qubits](88.png)\n",
    "\n",
    "\n",
    "## Quantum advantage \n",
    "\n",
    "&nbsp; \n",
    "\n",
    "Consider a **quantum bit calculator** which takes qubits as inputs.\n",
    "\n",
    "![qbitcalc](81.jpg)\n",
    "\n",
    "\n",
    "**What happens if we place every qubit into a superposition of state `0` and `1`?** 🧠\n",
    "\n",
    "```{admonition} Answer\n",
    ":class: tip, dropdown\n",
    "\n",
    "All possible combinations of classical binary variables are possible if each qubit is in superposition: \n",
    "\n",
    "![qbitcalc](82.png)\n",
    "\n",
    "This means that running our calculator in a quantum way can save us computational memory and time resources, since all classical bitstrings are being represented all at once. \n",
    "\n",
    "One major advantage of quantum computing comes from the fact that we can place qubits into superposition!\n",
    "\n",
    "``\n",
    "\n",
    "&nbsp;\n",
    "\n"
   ]
  }
 ],
 "metadata": {
  "kernelspec": {
   "display_name": "Python 3 (ipykernel)",
   "language": "python",
   "name": "python3"
  },
  "language_info": {
   "codemirror_mode": {
    "name": "ipython",
    "version": 3
   },
   "file_extension": ".py",
   "mimetype": "text/x-python",
   "name": "python",
   "nbconvert_exporter": "python",
   "pygments_lexer": "ipython3",
   "version": "3.13.1"
  }
 },
 "nbformat": 4,
 "nbformat_minor": 5
}
