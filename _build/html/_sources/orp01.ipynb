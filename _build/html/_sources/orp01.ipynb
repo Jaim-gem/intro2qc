{
 "cells": [
  {
   "cell_type": "markdown",
   "id": "43773b0a-feea-4600-9d7e-7c176efe8601",
   "metadata": {},
   "source": [
    "![section3_cover](93.jpg)\n",
    "\n",
    "&nbsp; \n",
    "\n",
    "# Getting Started "
   ]
  },
  {
   "cell_type": "markdown",
   "id": "25aab125-0c7e-4ace-850e-994b685f72ca",
   "metadata": {
    "jp-MarkdownHeadingCollapsed": true
   },
   "source": [
    "&nbsp; \n",
    "\n",
    "Now that we know a little about quantum computing, we can get started with **building and running quantum circuits**! We will be using [Qiskit](https://www.ibm.com/quantum/qiskit)  &mdash;  a **quantum programming software development kit (SDK)** written in the [Python](https://www.python.org) programming language. \n",
    "&nbsp; \n",
    "\n",
    "\n",
    "```{admonition} Important\n",
    "In this section, you can run and edit code by navigating to the *rocket* menu 🚀 in the top right of the page and by selecting \"**Live Code**\". \n",
    "```\n",
    "\n",
    "&nbsp; \n",
    "\n",
    "The [programming exercises](orp02) will cover the basics for programming with Qiskit and the concepts of superposed and entangled states. \n",
    "\n",
    "[Extra exercises](orp03) are provided for more in-depth understanding of the same concepts, and can be completed following the workshop.\n",
    "\n",
    "&nbsp; \n"
   ]
  },
  {
   "cell_type": "code",
   "execution_count": null,
   "id": "a6005a22-f2a1-4afc-a8f6-63878379f17d",
   "metadata": {},
   "outputs": [],
   "source": []
  }
 ],
 "metadata": {
  "kernelspec": {
   "display_name": "Python 3 (ipykernel)",
   "language": "python",
   "name": "python3"
  },
  "language_info": {
   "codemirror_mode": {
    "name": "ipython",
    "version": 3
   },
   "file_extension": ".py",
   "mimetype": "text/x-python",
   "name": "python",
   "nbconvert_exporter": "python",
   "pygments_lexer": "ipython3",
   "version": "3.13.1"
  }
 },
 "nbformat": 4,
 "nbformat_minor": 5
}
