{
 "cells": [
  {
   "cell_type": "markdown",
   "id": "43773b0a-feea-4600-9d7e-7c176efe8601",
   "metadata": {},
   "source": [
    "# Quantum Entanglement"
   ]
  },
  {
   "cell_type": "markdown",
   "id": "25aab125-0c7e-4ace-850e-994b685f72ca",
   "metadata": {},
   "source": [
    "&nbsp; \n",
    "\n",
    "When qubits interact, something even *stranger* happens… \n",
    "\n",
    "## Schrödinger's cat lvl 2 🐈‍⬛🐈\n",
    "\n",
    "There are now two quantum cats in one box. We manage to separate them into two separate boxes on opposite ends of the room without looking. Two observers decide to look into the boxes at the same time causing the quantum cats states to collapse. On the first observation, the cats are both in the `dead` state. On the second observation, they are both in the `alive` state. After repeating the experiment multiple times, the cats are always found to be in the same state once observed.\n",
    "\n",
    "The outcomes of the observations are said to be **correlated** because of the quantum cats were once in contact. This is called **entanglement.** \n",
    "\n",
    "&nbsp; \n",
    "\n",
    "**Why might this result be considered strange?** 🧠 \n",
    "\n",
    "```{admonition} Answer\n",
    ":class: tip, dropdown\n",
    "\n",
    "It’s strange because the final outcome for each cat was not decided until the moment of observation. The quantum cats states collapse probabilistically into their final outcomes. \n",
    "\n",
    "For the measurements to be correlated in this way, one might think that they had to “communicate” at the exact moment of measurement what state they were about to collapse to.\n",
    "However, physics forbids this explanation as this would indicate information travelling **faster than the speed of light** between the quantum objects. \n",
    "\n",
    "The current theory, which is increasingly being demonstrated as true, is what we call **quantum non-locality**. It is the idea that no matter how far we separate the qubits after the interaction, their states can no longer be described independently of the other. It’s like they behave as “one” system, no matter if we place an entire universe between them!\n",
    "\n",
    "*What in the… telepathy?!*\n",
    "\n",
    "This theory might sound a bit crazy, but experimental demonstrations of quantum non-locality was the subject of the **2022 Nobel Prize in Physics**.\n",
    "\n",
    "```\n",
    "\n",
    "&nbsp; \n",
    "\n",
    "**How might an entangled qubit state be described?** 🧠 \n",
    "\n",
    "```{admonition} Answer\n",
    ":class: tip, dropdown\n",
    "\n",
    "$$\n",
    "\\text{Entangled state} = c_{00}\\times \\text{state }\\mathbf{00} + c_{11} \\times \\text{state } \\mathbf{11}\n",
    "$$\n",
    "\n",
    "In this example, notice that the states `01` and `10` are not possible because of the entanglement. \n",
    "\n",
    "```\n",
    "\n",
    "&nbsp; "
   ]
  }
 ],
 "metadata": {
  "kernelspec": {
   "display_name": "Python 3 (ipykernel)",
   "language": "python",
   "name": "python3"
  },
  "language_info": {
   "codemirror_mode": {
    "name": "ipython",
    "version": 3
   },
   "file_extension": ".py",
   "mimetype": "text/x-python",
   "name": "python",
   "nbconvert_exporter": "python",
   "pygments_lexer": "ipython3",
   "version": "3.13.1"
  }
 },
 "nbformat": 4,
 "nbformat_minor": 5
}
