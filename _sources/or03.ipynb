{
 "cells": [
  {
   "cell_type": "markdown",
   "id": "43773b0a-feea-4600-9d7e-7c176efe8601",
   "metadata": {},
   "source": [
    "# Combinatorial Problems"
   ]
  },
  {
   "cell_type": "markdown",
   "id": "25aab125-0c7e-4ace-850e-994b685f72ca",
   "metadata": {},
   "source": [
    "## Time vs memory ⚔️\n",
    "\n",
    "Imagine if we had a **bit calculator** that looks something like this: \n",
    "&nbsp; \n",
    "\n",
    "![bitcalc](bitcalc.png)\n",
    "\n",
    "&nbsp; \n",
    "\n",
    "The **horizontal lines** are the inputs to the calculator. The calculator takes the variables $x$ as input and gives some output. If we wanted to determine the best answer for an output, we would need to run the circuit for all the possible input bitstrings, which is $T_{bit} = 2^4$ times. \n",
    "    \n",
    "*Alternatively*, if we wanted to run all the bit strings **simultaneously**, we would need access to more inputs (more horizontal lines) as well as $T_{bit} = 2^4$ bit calculators. This would look something like this: \n",
    "&nbsp; \n",
    "\n",
    "![para](parallel.png)\n",
    "\n",
    "&nbsp; \n",
    "\n",
    "In the first case, we require **computational time** that is proportional to $T_{bit}$. \n",
    "\n",
    "In the second case, we require **computational memory** that is proportional to $T_{bit}$.\n",
    "\n",
    "&nbsp;\n",
    "\n",
    "## Combinatorial Explosion! 💥\n",
    "\n",
    "With increasing $n$,  the total number of combinations rises rapidly for the function $2^n$. If we wanted to compute the best solution for ditstrings, the functions for the larger degrees of freedom $3^n$,$4^n$ and $5^n$ rises more rapidly than for bitstring problems.\n",
    "\n",
    "![explode](56.jpg)\n",
    "\n",
    "&nbsp; \n",
    "\n"
   ]
  }
 ],
 "metadata": {
  "kernelspec": {
   "display_name": "Python 3 (ipykernel)",
   "language": "python",
   "name": "python3"
  },
  "language_info": {
   "codemirror_mode": {
    "name": "ipython",
    "version": 3
   },
   "file_extension": ".py",
   "mimetype": "text/x-python",
   "name": "python",
   "nbconvert_exporter": "python",
   "pygments_lexer": "ipython3",
   "version": "3.13.1"
  }
 },
 "nbformat": 4,
 "nbformat_minor": 5
}
