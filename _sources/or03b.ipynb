{
 "cells": [
  {
   "cell_type": "markdown",
   "id": "43773b0a-feea-4600-9d7e-7c176efe8601",
   "metadata": {},
   "source": [
    "# Limitations of Classical Computing"
   ]
  },
  {
   "cell_type": "markdown",
   "id": "25aab125-0c7e-4ace-850e-994b685f72ca",
   "metadata": {
    "jp-MarkdownHeadingCollapsed": true
   },
   "source": [
    "&nbsp; \n",
    "\n",
    "There is a **limit** to what we can compute on our traditional computers. \n",
    "\n",
    "Consider that in a small hospital with about 100 nurses, we want to schedule 50 nurses to work on a particular day. The total number of ways we can select those numbers are given by the formula for the **binomial coefficient** in the **binomial theorem**.\n",
    "\n",
    "\n",
    "$$\n",
    "\\text{Total nurse combinations} = \\begin{pmatrix} 100 \\\\ 50 \\end{pmatrix} = \\frac{100!}{50!50!} \\approx 10^{29}\n",
    "$$\n",
    "\n",
    "&nbsp; \n",
    "\n",
    "**That's a lot!** Say now that we want to select the best combination of nurses, in consideration of their level of experience, the number of days they’ve been working in a row, their risk for burnout, the hospital demand for that day, etc. To simultaneously store all possible combinations of nurses on a classical computer, we’d need \n",
    "\n",
    "$$\n",
    "\\text{Storage }(S) = 50 \\times 10^{29} \\sim 10^{30} \\\\ \\sim 2^{102} \\; \\text{bits}\n",
    "$$\n",
    "\n",
    "&nbsp; \n",
    "\n",
    "This is more than $5\\times10^5 \\text{ YB}$ (yottabyte), which is more than the current global data storage capacity (~ $149 \\text{ ZB}$ in 2024). \n",
    "\n",
    "```{margin}\n",
    "Credit: TechTerms.com\n",
    "```\n",
    "![data](storage.png)\n",
    "\n",
    "\n",
    "&nbsp; \n",
    "\n",
    "Now we may not ever need to be able to simultaneously store data for a problem like this, but it gives us an example of what we’re working with. Thinking now of much larger and complex problems, like being able to **model the global weather,** **predict new materials**, or **find the best drug to treat a particular disease**, the amount of computational storage and power required explodes!\n",
    "\n",
    "\n",
    "&nbsp; \n"
   ]
  }
 ],
 "metadata": {
  "kernelspec": {
   "display_name": "Python 3 (ipykernel)",
   "language": "python",
   "name": "python3"
  },
  "language_info": {
   "codemirror_mode": {
    "name": "ipython",
    "version": 3
   },
   "file_extension": ".py",
   "mimetype": "text/x-python",
   "name": "python",
   "nbconvert_exporter": "python",
   "pygments_lexer": "ipython3",
   "version": "3.13.1"
  }
 },
 "nbformat": 4,
 "nbformat_minor": 5
}
