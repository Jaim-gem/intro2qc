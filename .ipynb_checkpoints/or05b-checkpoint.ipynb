{
 "cells": [
  {
   "cell_type": "markdown",
   "id": "43773b0a-feea-4600-9d7e-7c176efe8601",
   "metadata": {},
   "source": [
    "# Quantum Interference "
   ]
  },
  {
   "cell_type": "markdown",
   "id": "25aab125-0c7e-4ace-850e-994b685f72ca",
   "metadata": {},
   "source": [
    "&nbsp; \n",
    "\n",
    "**Interference** is a phenomenon that is typically associated with **waves**, e.g. water waves, sound waves and light waves. It is when two or more waves **add up** or **cancel** each other out at certain points. \n",
    "\n",
    "\n",
    "\n",
    "```{margin}\n",
    "Credit: physics-animations\n",
    "```\n",
    "![waterwaves](wave-interference.mov)\n",
    "&nbsp; \n",
    "\n",
    "Interference is commonly observed in everyday life when there are disruptions or dips in electromagnetic signals from household appliances and in telecommunications. Intereference is also the basis of **noise-cancelling headphones**.\n",
    "&nbsp; \n",
    "\n",
    "![interfere](68.jpg)\n",
    "\n",
    "The truth is that interference is not a weird property on its own. It's the fact that quantum objects exhibit this type of behaviour which is only expected for waves. This leads us to think that quantum objects may exhibit both **particle** and **wave**-like behaviours, which is referred to as **wave-particle duality**. \n",
    "\n",
    "\n",
    "&nbsp; "
   ]
  }
 ],
 "metadata": {
  "kernelspec": {
   "display_name": "Python 3 (ipykernel)",
   "language": "python",
   "name": "python3"
  },
  "language_info": {
   "codemirror_mode": {
    "name": "ipython",
    "version": 3
   },
   "file_extension": ".py",
   "mimetype": "text/x-python",
   "name": "python",
   "nbconvert_exporter": "python",
   "pygments_lexer": "ipython3",
   "version": "3.13.1"
  }
 },
 "nbformat": 4,
 "nbformat_minor": 5
}
